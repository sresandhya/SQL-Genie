{
 "cells": [
  {
   "cell_type": "code",
   "execution_count": 1,
   "id": "85d17529-2f28-48b5-b8b6-de16ef46c185",
   "metadata": {},
   "outputs": [],
   "source": [
    "from langchain_google_genai import GoogleGenerativeAI\n",
    "\n",
    "import os\n",
    "from dotenv import load_dotenv\n",
    "load_dotenv()\n",
    "llm=GoogleGenerativeAI(model=\"gemini-2.0-flash\", google_api_key=os.environ[\"GOOGLE_API_KEY\"])"
   ]
  },
  {
   "cell_type": "code",
   "execution_count": 2,
   "id": "84bdb02c-6fa5-4edf-afe9-36b98efd6d3c",
   "metadata": {},
   "outputs": [
    {
     "name": "stderr",
     "output_type": "stream",
     "text": [
      "C:\\Users\\sresa\\AppData\\Local\\Temp\\ipykernel_20412\\474359270.py:1: LangChainDeprecationWarning: The method `BaseLLM.__call__` was deprecated in langchain-core 0.1.7 and will be removed in 1.0. Use :meth:`~invoke` instead.\n",
      "  print(llm(\"Write few lines on GenAI\"))\n"
     ]
    },
    {
     "name": "stdout",
     "output_type": "stream",
     "text": [
      "GenAI, or Generative AI, refers to artificial intelligence models that can generate new content, such as text, images, audio, and video. These models learn patterns from existing data and then use that knowledge to create original outputs.  From writing poems and code to designing products and composing music, GenAI is rapidly transforming various industries with its creative potential and automation capabilities. However, ethical considerations regarding copyright, bias, and misinformation are crucial as GenAI becomes more prevalent.\n"
     ]
    }
   ],
   "source": [
    "print(llm(\"Write few lines on GenAI\"))"
   ]
  },
  {
   "cell_type": "code",
   "execution_count": 3,
   "id": "afc5b46a-8d15-4743-86b0-dff084e2dc14",
   "metadata": {},
   "outputs": [],
   "source": [
    "from langchain.utilities import SQLDatabase\n",
    "from langchain_experimental.sql import SQLDatabaseChain"
   ]
  },
  {
   "cell_type": "code",
   "execution_count": 4,
   "id": "37e83506-a4cd-4f72-8aa7-036c604030fd",
   "metadata": {},
   "outputs": [
    {
     "name": "stdout",
     "output_type": "stream",
     "text": [
      "\n",
      "CREATE TABLE sales (\n",
      "\t`TransactionID` INTEGER, \n",
      "\t`Date` DATE, \n",
      "\t`CustomerID` VARCHAR(10), \n",
      "\t`Gender` VARCHAR(10), \n",
      "\t`Age` INTEGER, \n",
      "\t`ProductCategory` VARCHAR(50), \n",
      "\t`Quantity` INTEGER, \n",
      "\t`PriceperUnit` DECIMAL(10, 2), \n",
      "\t`TotalAmount` DECIMAL(10, 2)\n",
      ")DEFAULT CHARSET=utf8mb4 ENGINE=InnoDB COLLATE utf8mb4_0900_ai_ci\n",
      "\n",
      "/*\n",
      "3 rows from sales table:\n",
      "TransactionID\tDate\tCustomerID\tGender\tAge\tProductCategory\tQuantity\tPriceperUnit\tTotalAmount\n",
      "1\t2023-11-24\tCUST001\tMale\t34\tBeauty\t3\t50.00\t150.00\n",
      "2\t2023-02-27\tCUST002\tFemale\t26\tClothing\t2\t500.00\t1000.00\n",
      "3\t2023-01-13\tCUST003\tMale\t50\tElectronics\t1\t30.00\t30.00\n",
      "*/\n"
     ]
    }
   ],
   "source": [
    "from langchain_community.utilities import SQLDatabase\n",
    "\n",
    "db_user = \"root\"\n",
    "db_password = \"1234\"\n",
    "db_host = \"localhost\"\n",
    "db_name = \"retails\"  # MySQL database name\n",
    "\n",
    "db = SQLDatabase.from_uri(\n",
    "    f\"mysql+pymysql://{db_user}:{db_password}@{db_host}/{db_name}\",\n",
    "    sample_rows_in_table_info=3\n",
    ")\n",
    "\n",
    "print(db.table_info)\n"
   ]
  },
  {
   "cell_type": "code",
   "execution_count": 5,
   "id": "ddd8084d-f1af-4c3f-bbce-80b54a49080e",
   "metadata": {},
   "outputs": [
    {
     "data": {
      "text/plain": [
       "'```sql\\nSELECT count(DISTINCT `CustomerID`) FROM sales\\n```'"
      ]
     },
     "execution_count": 5,
     "metadata": {},
     "output_type": "execute_result"
    }
   ],
   "source": [
    "from langchain.chains import create_sql_query_chain\n",
    "ch=create_sql_query_chain(llm,db)\n",
    "res=ch.invoke({\"question\":\"How many customers are there\"})\n",
    "res"
   ]
  },
  {
   "cell_type": "code",
   "execution_count": 6,
   "id": "b96e8f18-25e5-4105-b7a6-8e472ea8e945",
   "metadata": {},
   "outputs": [
    {
     "name": "stdout",
     "output_type": "stream",
     "text": [
      "SELECT count(DISTINCT `CustomerID`) FROM sales\n"
     ]
    }
   ],
   "source": [
    "cleaned = res.replace(\"```sql\\n\", \"\").replace(\"\\n```\", \"\")\n",
    "print(cleaned)"
   ]
  },
  {
   "cell_type": "code",
   "execution_count": 7,
   "id": "dd150763-e0f0-487b-9ef2-05873429f3ce",
   "metadata": {},
   "outputs": [
    {
     "name": "stdout",
     "output_type": "stream",
     "text": [
      "[(29,)]\n"
     ]
    }
   ],
   "source": [
    "result=db.run(cleaned)\n",
    "print(result)"
   ]
  },
  {
   "cell_type": "code",
   "execution_count": 8,
   "id": "0a26fc2e-3a0e-4559-8247-fa0695e6f47d",
   "metadata": {},
   "outputs": [],
   "source": [
    "ch=create_sql_query_chain(llm,db)\n",
    "def execute_query(question):\n",
    "    try:\n",
    "        # Generate SQL query from question\n",
    "        res=ch.invoke({\"question\":question})\n",
    "        print(res)\n",
    "        print(\"###################################################\")\n",
    "        # Strip the formatting markers from the response\n",
    "        cleaned = res.replace(\"```sql\\n\", \"\").replace(\"\\n```\", \"\")\n",
    "        print(cleaned)\n",
    "        print(\"###################################################\")        \n",
    "        # Execute the cleaned query\n",
    "        result=db.run(cleaned)\n",
    "        print(\"###################################################\")        \n",
    "        # Display the result\n",
    "        print(result)\n",
    "    except ProgrammingError as e:\n",
    "        print(f\"An error occurred: {e}\")"
   ]
  },
  {
   "cell_type": "code",
   "execution_count": 9,
   "id": "345574b7-b1b9-4ffd-8d25-9ebac91c6768",
   "metadata": {},
   "outputs": [
    {
     "name": "stdout",
     "output_type": "stream",
     "text": [
      "```sql\n",
      "SELECT `ProductCategory`, COUNT(DISTINCT `CustomerID`) AS `UniqueCustomers` FROM sales GROUP BY `ProductCategory`\n",
      "```\n",
      "###################################################\n",
      "SELECT `ProductCategory`, COUNT(DISTINCT `CustomerID`) AS `UniqueCustomers` FROM sales GROUP BY `ProductCategory`\n",
      "###################################################\n",
      "###################################################\n",
      "[('Beauty', 8), ('Clothing', 13), ('Electronics', 8)]\n"
     ]
    }
   ],
   "source": [
    "q1 = \"How many unique customers are there for each product category\"\n",
    "execute_query(q1)"
   ]
  },
  {
   "cell_type": "code",
   "execution_count": 10,
   "id": "1ac34bac-dcdf-4810-9489-35e0fbfdbac2",
   "metadata": {},
   "outputs": [
    {
     "name": "stdout",
     "output_type": "stream",
     "text": [
      "```sql\n",
      "SELECT `ProductCategory`, SUM(`TotalAmount`) AS `TotalSalesAmount`\n",
      "FROM sales\n",
      "GROUP BY `ProductCategory`\n",
      "ORDER BY `TotalSalesAmount` DESC;\n",
      "```\n",
      "###################################################\n",
      "SELECT `ProductCategory`, SUM(`TotalAmount`) AS `TotalSalesAmount`\n",
      "FROM sales\n",
      "GROUP BY `ProductCategory`\n",
      "ORDER BY `TotalSalesAmount` DESC;\n",
      "###################################################\n",
      "###################################################\n",
      "[('Electronics', Decimal('5310.00')), ('Clothing', Decimal('5040.00')), ('Beauty', Decimal('1455.00'))]\n"
     ]
    }
   ],
   "source": [
    "q2 = \"Calculate total sales amount per product category:\"\n",
    "execute_query(q2)"
   ]
  },
  {
   "cell_type": "code",
   "execution_count": 11,
   "id": "eac9bc7e-3e95-4a9e-8228-bf4cbe64442c",
   "metadata": {},
   "outputs": [
    {
     "name": "stdout",
     "output_type": "stream",
     "text": [
      "```sql\n",
      "SELECT \n",
      "    `Gender`,\n",
      "    AVG(`Age`) AS `AverageAge`\n",
      "FROM \n",
      "    `sales`\n",
      "GROUP BY \n",
      "    `Gender`\n",
      "```\n",
      "###################################################\n",
      "SELECT \n",
      "    `Gender`,\n",
      "    AVG(`Age`) AS `AverageAge`\n",
      "FROM \n",
      "    `sales`\n",
      "GROUP BY \n",
      "    `Gender`\n",
      "###################################################\n",
      "###################################################\n",
      "[('Male', Decimal('35.2143')), ('Female', Decimal('43.3333'))]\n"
     ]
    }
   ],
   "source": [
    "q3 = \"calculates the average age of customers grouped by gender.\"\n",
    "execute_query(q3)"
   ]
  },
  {
   "cell_type": "code",
   "execution_count": 12,
   "id": "4100ce5b-ca82-4e9a-90f2-9c957c20bb17",
   "metadata": {},
   "outputs": [
    {
     "name": "stdout",
     "output_type": "stream",
     "text": [
      "```sql\n",
      "SELECT\n",
      "  `CustomerID`,\n",
      "  SUM(`TotalAmount`) AS `TotalSpent`\n",
      "FROM sales\n",
      "GROUP BY\n",
      "  `CustomerID`\n",
      "ORDER BY\n",
      "  `TotalSpent` DESC\n",
      "LIMIT 5;\n",
      "```\n",
      "###################################################\n",
      "SELECT\n",
      "  `CustomerID`,\n",
      "  SUM(`TotalAmount`) AS `TotalSpent`\n",
      "FROM sales\n",
      "GROUP BY\n",
      "  `CustomerID`\n",
      "ORDER BY\n",
      "  `TotalSpent` DESC\n",
      "LIMIT 5;\n",
      "###################################################\n",
      "###################################################\n",
      "[('CUST015', Decimal('2000.00')), ('CUST013', Decimal('1500.00')), ('CUST016', Decimal('1500.00')), ('CUST002', Decimal('1000.00')), ('CUST026', Decimal('1000.00'))]\n"
     ]
    }
   ],
   "source": [
    "q4 = \"identify the top spending customers based on their total amount spent.\"\n",
    "execute_query(q4)"
   ]
  },
  {
   "cell_type": "code",
   "execution_count": 13,
   "id": "7a44a605-c285-49db-8d5a-6c09673b126f",
   "metadata": {},
   "outputs": [
    {
     "name": "stdout",
     "output_type": "stream",
     "text": [
      "```sql\n",
      "SELECT\n",
      "  DATE_FORMAT(`Date`, '%Y-%m') AS `Month`,\n",
      "  COUNT(*) AS `TransactionCount`\n",
      "FROM sales\n",
      "GROUP BY\n",
      "  `Month`\n",
      "ORDER BY\n",
      "  `Month`\n",
      "LIMIT 5;\n",
      "```\n",
      "###################################################\n",
      "SELECT\n",
      "  DATE_FORMAT(`Date`, '%Y-%m') AS `Month`,\n",
      "  COUNT(*) AS `TransactionCount`\n",
      "FROM sales\n",
      "GROUP BY\n",
      "  `Month`\n",
      "ORDER BY\n",
      "  `Month`\n",
      "LIMIT 5;\n",
      "###################################################\n",
      "###################################################\n",
      "[('2023-01', 4), ('2023-02', 4), ('2023-03', 1), ('2023-04', 5), ('2023-05', 2)]\n"
     ]
    }
   ],
   "source": [
    "q5 = \"counts the number of transactions made each month.\"\n",
    "execute_query(q5)"
   ]
  },
  {
   "cell_type": "code",
   "execution_count": 14,
   "id": "1ffe8709-01d4-4f84-a81b-8451021ca2b7",
   "metadata": {},
   "outputs": [
    {
     "name": "stdout",
     "output_type": "stream",
     "text": [
      "```sql\n",
      "SELECT \n",
      "    `ProductCategory`,\n",
      "    SUM(`TotalAmount`) AS `TotalSalesAmount`,\n",
      "    AVG(`PriceperUnit`) AS `AveragePricePerUnit`\n",
      "FROM sales\n",
      "GROUP BY `ProductCategory`\n",
      "```\n",
      "###################################################\n",
      "SELECT \n",
      "    `ProductCategory`,\n",
      "    SUM(`TotalAmount`) AS `TotalSalesAmount`,\n",
      "    AVG(`PriceperUnit`) AS `AveragePricePerUnit`\n",
      "FROM sales\n",
      "GROUP BY `ProductCategory`\n",
      "###################################################\n",
      "###################################################\n",
      "[('Beauty', Decimal('1455.00'), Decimal('153.750000')), ('Clothing', Decimal('5040.00'), Decimal('183.461538')), ('Electronics', Decimal('5310.00'), Decimal('238.750000'))]\n"
     ]
    }
   ],
   "source": [
    "q6 = \"calculates the total sales amount and average price per unit for each product category.\"\n",
    "execute_query(q6)"
   ]
  },
  {
   "cell_type": "code",
   "execution_count": null,
   "id": "ed0e633b-f49f-412d-88aa-9b0c0bd979e6",
   "metadata": {},
   "outputs": [],
   "source": []
  },
  {
   "cell_type": "code",
   "execution_count": null,
   "id": "24a9808c-6908-4818-a33e-981a9d7a8786",
   "metadata": {},
   "outputs": [],
   "source": []
  }
 ],
 "metadata": {
  "kernelspec": {
   "display_name": "Python 3 (ipykernel)",
   "language": "python",
   "name": "python3"
  },
  "language_info": {
   "codemirror_mode": {
    "name": "ipython",
    "version": 3
   },
   "file_extension": ".py",
   "mimetype": "text/x-python",
   "name": "python",
   "nbconvert_exporter": "python",
   "pygments_lexer": "ipython3",
   "version": "3.13.5"
  }
 },
 "nbformat": 4,
 "nbformat_minor": 5
}
